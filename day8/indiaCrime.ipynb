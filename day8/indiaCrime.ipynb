{
 "cells": [
  {
   "cell_type": "code",
   "execution_count": 1,
   "id": "67adb7e6",
   "metadata": {},
   "outputs": [],
   "source": [
    "import pandas as pd\n",
    "import numpy as np\n",
    "import matplotlib.pyplot as plt\n",
    "import seaborn as sns"
   ]
  },
  {
   "cell_type": "code",
   "execution_count": 2,
   "id": "b04d3a36",
   "metadata": {},
   "outputs": [],
   "source": [
    "df=pd.read_csv(\"indiaCrime.csv\")"
   ]
  },
  {
   "cell_type": "code",
   "execution_count": 3,
   "id": "cf71058d",
   "metadata": {},
   "outputs": [
    {
     "data": {
      "text/html": [
       "<div>\n",
       "<style scoped>\n",
       "    .dataframe tbody tr th:only-of-type {\n",
       "        vertical-align: middle;\n",
       "    }\n",
       "\n",
       "    .dataframe tbody tr th {\n",
       "        vertical-align: top;\n",
       "    }\n",
       "\n",
       "    .dataframe thead th {\n",
       "        text-align: right;\n",
       "    }\n",
       "</style>\n",
       "<table border=\"1\" class=\"dataframe\">\n",
       "  <thead>\n",
       "    <tr style=\"text-align: right;\">\n",
       "      <th></th>\n",
       "      <th>Unnamed: 0</th>\n",
       "      <th>STATE/UT</th>\n",
       "      <th>YEAR</th>\n",
       "      <th>POPULATION</th>\n",
       "      <th>MALES</th>\n",
       "      <th>FEMALES</th>\n",
       "      <th>MALES(per_100k)</th>\n",
       "      <th>FEMALES(per_100k)</th>\n",
       "      <th>TOTAL IPC CRIMES</th>\n",
       "      <th>TOTAL IPC CRIMES(per_100k)</th>\n",
       "      <th>...</th>\n",
       "      <th>RAPE</th>\n",
       "      <th>RAPE(per_100k)</th>\n",
       "      <th>RIOTS</th>\n",
       "      <th>RIOTS(per_100k)</th>\n",
       "      <th>ROBBERY</th>\n",
       "      <th>ROBBERY(per_100k)</th>\n",
       "      <th>THEFT</th>\n",
       "      <th>THEFT(per_100k)</th>\n",
       "      <th>OTHER IPC CRIMES</th>\n",
       "      <th>OTHER IPC CRIMES(per_100k)</th>\n",
       "    </tr>\n",
       "  </thead>\n",
       "  <tbody>\n",
       "    <tr>\n",
       "      <th>0</th>\n",
       "      <td>0</td>\n",
       "      <td>A&amp;N Islands</td>\n",
       "      <td>2001</td>\n",
       "      <td>356</td>\n",
       "      <td>193</td>\n",
       "      <td>163</td>\n",
       "      <td>54213.483146</td>\n",
       "      <td>45786.516854</td>\n",
       "      <td>1316</td>\n",
       "      <td>369662.921348</td>\n",
       "      <td>...</td>\n",
       "      <td>6</td>\n",
       "      <td>1685.393258</td>\n",
       "      <td>26</td>\n",
       "      <td>7303.370787</td>\n",
       "      <td>8</td>\n",
       "      <td>2247.191011</td>\n",
       "      <td>130</td>\n",
       "      <td>36516.853933</td>\n",
       "      <td>646</td>\n",
       "      <td>181460.674157</td>\n",
       "    </tr>\n",
       "    <tr>\n",
       "      <th>1</th>\n",
       "      <td>1</td>\n",
       "      <td>Andhra Pradesh</td>\n",
       "      <td>2001</td>\n",
       "      <td>76210</td>\n",
       "      <td>38527</td>\n",
       "      <td>37683</td>\n",
       "      <td>50553.733106</td>\n",
       "      <td>49446.266894</td>\n",
       "      <td>260178</td>\n",
       "      <td>341396.142239</td>\n",
       "      <td>...</td>\n",
       "      <td>1742</td>\n",
       "      <td>2285.789267</td>\n",
       "      <td>6002</td>\n",
       "      <td>7875.606876</td>\n",
       "      <td>1258</td>\n",
       "      <td>1650.702008</td>\n",
       "      <td>33502</td>\n",
       "      <td>43960.110222</td>\n",
       "      <td>68688</td>\n",
       "      <td>90129.904212</td>\n",
       "    </tr>\n",
       "    <tr>\n",
       "      <th>2</th>\n",
       "      <td>2</td>\n",
       "      <td>Arunachal Pradesh</td>\n",
       "      <td>2001</td>\n",
       "      <td>1098</td>\n",
       "      <td>580</td>\n",
       "      <td>518</td>\n",
       "      <td>52823.315118</td>\n",
       "      <td>47176.684882</td>\n",
       "      <td>4684</td>\n",
       "      <td>426593.806922</td>\n",
       "      <td>...</td>\n",
       "      <td>66</td>\n",
       "      <td>6010.928962</td>\n",
       "      <td>48</td>\n",
       "      <td>4371.584699</td>\n",
       "      <td>168</td>\n",
       "      <td>15300.546448</td>\n",
       "      <td>886</td>\n",
       "      <td>80692.167577</td>\n",
       "      <td>1236</td>\n",
       "      <td>112568.306011</td>\n",
       "    </tr>\n",
       "    <tr>\n",
       "      <th>3</th>\n",
       "      <td>3</td>\n",
       "      <td>Assam</td>\n",
       "      <td>2001</td>\n",
       "      <td>26656</td>\n",
       "      <td>13777</td>\n",
       "      <td>12878</td>\n",
       "      <td>51684.423770</td>\n",
       "      <td>48311.824730</td>\n",
       "      <td>73754</td>\n",
       "      <td>276688.175270</td>\n",
       "      <td>...</td>\n",
       "      <td>1634</td>\n",
       "      <td>6129.951981</td>\n",
       "      <td>5906</td>\n",
       "      <td>22156.362545</td>\n",
       "      <td>1374</td>\n",
       "      <td>5154.561825</td>\n",
       "      <td>10734</td>\n",
       "      <td>40268.607443</td>\n",
       "      <td>18630</td>\n",
       "      <td>69890.456182</td>\n",
       "    </tr>\n",
       "    <tr>\n",
       "      <th>4</th>\n",
       "      <td>4</td>\n",
       "      <td>Bihar</td>\n",
       "      <td>2001</td>\n",
       "      <td>82999</td>\n",
       "      <td>43244</td>\n",
       "      <td>39755</td>\n",
       "      <td>52101.832552</td>\n",
       "      <td>47898.167448</td>\n",
       "      <td>176864</td>\n",
       "      <td>213091.723997</td>\n",
       "      <td>...</td>\n",
       "      <td>1776</td>\n",
       "      <td>2139.784817</td>\n",
       "      <td>17212</td>\n",
       "      <td>20737.599248</td>\n",
       "      <td>4406</td>\n",
       "      <td>5308.497693</td>\n",
       "      <td>19402</td>\n",
       "      <td>23376.185255</td>\n",
       "      <td>73334</td>\n",
       "      <td>88355.281389</td>\n",
       "    </tr>\n",
       "  </tbody>\n",
       "</table>\n",
       "<p>5 rows × 68 columns</p>\n",
       "</div>"
      ],
      "text/plain": [
       "   Unnamed: 0           STATE/UT  YEAR  POPULATION  MALES  FEMALES  \\\n",
       "0           0        A&N Islands  2001         356    193      163   \n",
       "1           1     Andhra Pradesh  2001       76210  38527    37683   \n",
       "2           2  Arunachal Pradesh  2001        1098    580      518   \n",
       "3           3              Assam  2001       26656  13777    12878   \n",
       "4           4              Bihar  2001       82999  43244    39755   \n",
       "\n",
       "   MALES(per_100k)  FEMALES(per_100k)  TOTAL IPC CRIMES  \\\n",
       "0     54213.483146       45786.516854              1316   \n",
       "1     50553.733106       49446.266894            260178   \n",
       "2     52823.315118       47176.684882              4684   \n",
       "3     51684.423770       48311.824730             73754   \n",
       "4     52101.832552       47898.167448            176864   \n",
       "\n",
       "   TOTAL IPC CRIMES(per_100k)  ...  RAPE  RAPE(per_100k)  RIOTS  \\\n",
       "0               369662.921348  ...     6     1685.393258     26   \n",
       "1               341396.142239  ...  1742     2285.789267   6002   \n",
       "2               426593.806922  ...    66     6010.928962     48   \n",
       "3               276688.175270  ...  1634     6129.951981   5906   \n",
       "4               213091.723997  ...  1776     2139.784817  17212   \n",
       "\n",
       "   RIOTS(per_100k)  ROBBERY  ROBBERY(per_100k)  THEFT  THEFT(per_100k)  \\\n",
       "0      7303.370787        8        2247.191011    130     36516.853933   \n",
       "1      7875.606876     1258        1650.702008  33502     43960.110222   \n",
       "2      4371.584699      168       15300.546448    886     80692.167577   \n",
       "3     22156.362545     1374        5154.561825  10734     40268.607443   \n",
       "4     20737.599248     4406        5308.497693  19402     23376.185255   \n",
       "\n",
       "   OTHER IPC CRIMES  OTHER IPC CRIMES(per_100k)  \n",
       "0               646               181460.674157  \n",
       "1             68688                90129.904212  \n",
       "2              1236               112568.306011  \n",
       "3             18630                69890.456182  \n",
       "4             73334                88355.281389  \n",
       "\n",
       "[5 rows x 68 columns]"
      ]
     },
     "execution_count": 3,
     "metadata": {},
     "output_type": "execute_result"
    }
   ],
   "source": [
    "df.head()"
   ]
  },
  {
   "cell_type": "code",
   "execution_count": 4,
   "id": "935bbcc4",
   "metadata": {},
   "outputs": [
    {
     "name": "stdout",
     "output_type": "stream",
     "text": [
      "<class 'pandas.core.frame.DataFrame'>\n",
      "RangeIndex: 468 entries, 0 to 467\n",
      "Data columns (total 68 columns):\n",
      " #   Column                                                         Non-Null Count  Dtype  \n",
      "---  ------                                                         --------------  -----  \n",
      " 0   Unnamed: 0                                                     468 non-null    int64  \n",
      " 1   STATE/UT                                                       468 non-null    object \n",
      " 2   YEAR                                                           468 non-null    int64  \n",
      " 3   POPULATION                                                     468 non-null    int64  \n",
      " 4   MALES                                                          468 non-null    int64  \n",
      " 5   FEMALES                                                        468 non-null    int64  \n",
      " 6   MALES(per_100k)                                                468 non-null    float64\n",
      " 7   FEMALES(per_100k)                                              468 non-null    float64\n",
      " 8   TOTAL IPC CRIMES                                               468 non-null    int64  \n",
      " 9   TOTAL IPC CRIMES(per_100k)                                     468 non-null    float64\n",
      " 10  ARSON                                                          468 non-null    int64  \n",
      " 11  ARSON(per_100k)                                                468 non-null    float64\n",
      " 12  ASSAULT ON WOMEN WITH INTENT TO OUTRAGE HER MODESTY            468 non-null    int64  \n",
      " 13  ASSAULT ON WOMEN WITH INTENT TO OUTRAGE HER MODESTY(per_100k)  468 non-null    float64\n",
      " 14  ATTEMPT TO MURDER                                              468 non-null    int64  \n",
      " 15  ATTEMPT TO MURDER(per_100k)                                    468 non-null    float64\n",
      " 16  AUTO THEFT                                                     468 non-null    int64  \n",
      " 17  AUTO THEFT(per_100k)                                           468 non-null    float64\n",
      " 18  BURGLARY                                                       468 non-null    int64  \n",
      " 19  BURGLARY(per_100k)                                             468 non-null    float64\n",
      " 20  CAUSING DEATH BY NEGLIGENCE                                    468 non-null    int64  \n",
      " 21  CAUSING DEATH BY NEGLIGENCE(per_100k)                          468 non-null    float64\n",
      " 22  CHEATING                                                       468 non-null    int64  \n",
      " 23  CHEATING(per_100k)                                             468 non-null    float64\n",
      " 24  COUNTERFIETING                                                 468 non-null    int64  \n",
      " 25  COUNTERFIETING(per_100k)                                       468 non-null    float64\n",
      " 26  CRIMINAL BREACH OF TRUST                                       468 non-null    int64  \n",
      " 27  CRIMINAL BREACH OF TRUST(per_100k)                             468 non-null    float64\n",
      " 28  CRUELTY BY HUSBAND OR HIS RELATIVES                            468 non-null    int64  \n",
      " 29  CRUELTY BY HUSBAND OR HIS RELATIVES(per_100k)                  468 non-null    float64\n",
      " 30  CULPABLE HOMICIDE NOT AMOUNTING TO MURDER                      468 non-null    int64  \n",
      " 31  CULPABLE HOMICIDE NOT AMOUNTING TO MURDER(per_100k)            468 non-null    float64\n",
      " 32  CUSTODIAL RAPE                                                 468 non-null    int64  \n",
      " 33  CUSTODIAL RAPE(per_100k)                                       468 non-null    float64\n",
      " 34  DACOITY                                                        468 non-null    int64  \n",
      " 35  DACOITY(per_100k)                                              468 non-null    float64\n",
      " 36  DOWRY DEATHS                                                   468 non-null    int64  \n",
      " 37  DOWRY DEATHS(per_100k)                                         468 non-null    float64\n",
      " 38  HURT/GREVIOUS HURT                                             468 non-null    int64  \n",
      " 39  HURT/GREVIOUS HURT(per_100k)                                   468 non-null    float64\n",
      " 40  IMPORTATION OF GIRLS FROM FOREIGN COUNTRIES                    468 non-null    int64  \n",
      " 41  IMPORTATION OF GIRLS FROM FOREIGN COUNTRIES(per_100k)          468 non-null    float64\n",
      " 42  INSULT TO MODESTY OF WOMEN                                     468 non-null    int64  \n",
      " 43  INSULT TO MODESTY OF WOMEN(per_100k)                           468 non-null    float64\n",
      " 44  KIDNAPPING & ABDUCTION                                         468 non-null    int64  \n",
      " 45  KIDNAPPING & ABDUCTION(per_100k)                               468 non-null    float64\n",
      " 46  KIDNAPPING AND ABDUCTION OF OTHERS                             468 non-null    int64  \n",
      " 47  KIDNAPPING AND ABDUCTION OF OTHERS(per_100k)                   468 non-null    float64\n",
      " 48  KIDNAPPING AND ABDUCTION OF WOMEN AND GIRLS                    468 non-null    int64  \n",
      " 49  KIDNAPPING AND ABDUCTION OF WOMEN AND GIRLS(per_100k)          468 non-null    float64\n",
      " 50  MURDER                                                         468 non-null    int64  \n",
      " 51  MURDER(per_100k)                                               468 non-null    float64\n",
      " 52  OTHER RAPE                                                     468 non-null    int64  \n",
      " 53  OTHER RAPE(per_100k)                                           468 non-null    float64\n",
      " 54  OTHER THEFT                                                    468 non-null    int64  \n",
      " 55  OTHER THEFT(per_100k)                                          468 non-null    float64\n",
      " 56  PREPARATION AND ASSEMBLY FOR DACOITY                           468 non-null    int64  \n",
      " 57  PREPARATION AND ASSEMBLY FOR DACOITY(per_100k)                 468 non-null    float64\n",
      " 58  RAPE                                                           468 non-null    int64  \n",
      " 59  RAPE(per_100k)                                                 468 non-null    float64\n",
      " 60  RIOTS                                                          468 non-null    int64  \n",
      " 61  RIOTS(per_100k)                                                468 non-null    float64\n",
      " 62  ROBBERY                                                        468 non-null    int64  \n",
      " 63  ROBBERY(per_100k)                                              468 non-null    float64\n",
      " 64  THEFT                                                          468 non-null    int64  \n",
      " 65  THEFT(per_100k)                                                468 non-null    float64\n",
      " 66  OTHER IPC CRIMES                                               468 non-null    int64  \n",
      " 67  OTHER IPC CRIMES(per_100k)                                     468 non-null    float64\n",
      "dtypes: float64(32), int64(35), object(1)\n",
      "memory usage: 248.8+ KB\n"
     ]
    }
   ],
   "source": [
    "df.info()"
   ]
  },
  {
   "cell_type": "code",
   "execution_count": 5,
   "id": "a15c9397",
   "metadata": {},
   "outputs": [
    {
     "data": {
      "text/plain": [
       "np.int64(0)"
      ]
     },
     "execution_count": 5,
     "metadata": {},
     "output_type": "execute_result"
    }
   ],
   "source": [
    "df.isnull().sum().sum()"
   ]
  },
  {
   "cell_type": "code",
   "execution_count": 6,
   "id": "4b37a2f1",
   "metadata": {},
   "outputs": [],
   "source": [
    "df=pd.get_dummies(df,[\"STATE/UT\"])"
   ]
  },
  {
   "cell_type": "code",
   "execution_count": 7,
   "id": "682e9aab",
   "metadata": {},
   "outputs": [],
   "source": [
    "df=df.drop([\"Unnamed: 0\"],axis=1)"
   ]
  },
  {
   "cell_type": "code",
   "execution_count": 8,
   "id": "2de4274f",
   "metadata": {},
   "outputs": [],
   "source": [
    "#i saw this code block from another notebook, so go and check him page for more -> https://www.kaggle.com/devraai\n",
    "threshold = df['OTHER IPC CRIMES(per_100k)'].median()\n",
    "df['HIGH_CRIME'] = (df['OTHER IPC CRIMES(per_100k)'] > threshold).astype(int)"
   ]
  },
  {
   "cell_type": "code",
   "execution_count": 9,
   "id": "8f82b397",
   "metadata": {},
   "outputs": [],
   "source": [
    "y=df['HIGH_CRIME']\n",
    "x=df.drop([\"HIGH_CRIME\"],axis=1)"
   ]
  },
  {
   "cell_type": "code",
   "execution_count": 10,
   "id": "e484e19c",
   "metadata": {},
   "outputs": [],
   "source": [
    "from sklearn.model_selection import train_test_split\n",
    "\n",
    "x_train,x_test,y_train,y_test=train_test_split(x,y,train_size=0.7,random_state=31)"
   ]
  },
  {
   "cell_type": "code",
   "execution_count": 11,
   "id": "cae2cd41",
   "metadata": {},
   "outputs": [],
   "source": [
    "from sklearn.neighbors import KNeighborsClassifier\n",
    "from sklearn.linear_model import LogisticRegression, RidgeClassifier\n",
    "from sklearn.tree import DecisionTreeClassifier\n",
    "from sklearn.ensemble import RandomForestClassifier"
   ]
  },
  {
   "cell_type": "code",
   "execution_count": null,
   "id": "dab04a19",
   "metadata": {},
   "outputs": [],
   "source": [
    "models=[\n",
    "    KNeighborsClassifier(),\n",
    "    LogisticRegression(),\n",
    "    RidgeClassifier(),\n",
    "    DecisionTreeClassifier(),\n",
    "    RandomForestClassifier()\n",
    "]"
   ]
  },
  {
   "cell_type": "code",
   "execution_count": 28,
   "id": "d69a0375",
   "metadata": {},
   "outputs": [],
   "source": [
    "def evaluateModels(models):\n",
    "    results = []\n",
    "    for x in models:\n",
    "        x.fit(x_train, y_train)\n",
    "        score = x.score(x_test, y_test)\n",
    "        results.append((x.__class__.__name__, score))\n",
    "    return results\n"
   ]
  },
  {
   "cell_type": "code",
   "execution_count": 29,
   "id": "4fef5dcf",
   "metadata": {},
   "outputs": [],
   "source": [
    "results = evaluateModels(models)\n"
   ]
  },
  {
   "cell_type": "code",
   "execution_count": 30,
   "id": "e562acbe",
   "metadata": {},
   "outputs": [
    {
     "data": {
      "image/png": "[encoded data removed]",
      "text/plain": [
       "<Figure size 1000x500 with 1 Axes>"
      ]
     },
     "metadata": {},
     "output_type": "display_data"
    }
   ],
   "source": [
    "model_names = [name for name, score in results]\n",
    "scores = [score for name, score in results]\n",
    "plt.figure(figsize=(10, 5))\n",
    "plt.bar(model_names, scores)\n",
    "plt.ylabel(\"Accuracy\")\n",
    "plt.xlabel(\"Model\")\n",
    "plt.title(\"Model Performances\")\n",
    "plt.ylim(0, 1)\n",
    "plt.xticks(rotation=45)\n",
    "plt.show()"
   ]
  },
  {
   "cell_type": "code",
   "execution_count": null,
   "id": "4a7c7acd",
   "metadata": {},
   "outputs": [],
   "source": []
  }
 ],
 "metadata": {
  "kernelspec": {
   "display_name": "tf_env",
   "language": "python",
   "name": "python3"
  },
  "language_info": {
   "codemirror_mode": {
    "name": "ipython",
    "version": 3
   },
   "file_extension": ".py",
   "mimetype": "text/x-python",
   "name": "python",
   "nbconvert_exporter": "python",
   "pygments_lexer": "ipython3",
   "version": "3.10.18"
  }
 },
 "nbformat": 4,
 "nbformat_minor": 5
}
