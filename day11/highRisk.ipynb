{
 "cells": [
  {
   "cell_type": "code",
   "execution_count": 19,
   "id": "e36052d2",
   "metadata": {},
   "outputs": [],
   "source": [
    "import numpy as np\n",
    "import pandas as pd"
   ]
  },
  {
   "cell_type": "code",
   "execution_count": 21,
   "id": "d1066f84",
   "metadata": {},
   "outputs": [],
   "source": [
    "df=pd.read_csv(\"maternalHealth.csv\")"
   ]
  },
  {
   "cell_type": "code",
   "execution_count": 22,
   "id": "30542d20",
   "metadata": {},
   "outputs": [
    {
     "data": {
      "text/html": [
       "<div>\n",
       "<style scoped>\n",
       "    .dataframe tbody tr th:only-of-type {\n",
       "        vertical-align: middle;\n",
       "    }\n",
       "\n",
       "    .dataframe tbody tr th {\n",
       "        vertical-align: top;\n",
       "    }\n",
       "\n",
       "    .dataframe thead th {\n",
       "        text-align: right;\n",
       "    }\n",
       "</style>\n",
       "<table border=\"1\" class=\"dataframe\">\n",
       "  <thead>\n",
       "    <tr style=\"text-align: right;\">\n",
       "      <th></th>\n",
       "      <th>Age</th>\n",
       "      <th>Systolic BP</th>\n",
       "      <th>Diastolic</th>\n",
       "      <th>BS</th>\n",
       "      <th>Body Temp</th>\n",
       "      <th>BMI</th>\n",
       "      <th>Previous Complications</th>\n",
       "      <th>Preexisting Diabetes</th>\n",
       "      <th>Gestational Diabetes</th>\n",
       "      <th>Mental Health</th>\n",
       "      <th>Heart Rate</th>\n",
       "      <th>Risk Level</th>\n",
       "    </tr>\n",
       "  </thead>\n",
       "  <tbody>\n",
       "    <tr>\n",
       "      <th>0</th>\n",
       "      <td>22</td>\n",
       "      <td>90.0</td>\n",
       "      <td>60.0</td>\n",
       "      <td>9.0</td>\n",
       "      <td>100</td>\n",
       "      <td>18.0</td>\n",
       "      <td>1.0</td>\n",
       "      <td>1.0</td>\n",
       "      <td>0</td>\n",
       "      <td>1</td>\n",
       "      <td>80.0</td>\n",
       "      <td>High</td>\n",
       "    </tr>\n",
       "    <tr>\n",
       "      <th>1</th>\n",
       "      <td>22</td>\n",
       "      <td>110.0</td>\n",
       "      <td>70.0</td>\n",
       "      <td>7.1</td>\n",
       "      <td>98</td>\n",
       "      <td>20.4</td>\n",
       "      <td>0.0</td>\n",
       "      <td>0.0</td>\n",
       "      <td>0</td>\n",
       "      <td>0</td>\n",
       "      <td>74.0</td>\n",
       "      <td>Low</td>\n",
       "    </tr>\n",
       "    <tr>\n",
       "      <th>2</th>\n",
       "      <td>27</td>\n",
       "      <td>110.0</td>\n",
       "      <td>70.0</td>\n",
       "      <td>7.5</td>\n",
       "      <td>98</td>\n",
       "      <td>23.0</td>\n",
       "      <td>1.0</td>\n",
       "      <td>0.0</td>\n",
       "      <td>0</td>\n",
       "      <td>0</td>\n",
       "      <td>72.0</td>\n",
       "      <td>Low</td>\n",
       "    </tr>\n",
       "    <tr>\n",
       "      <th>3</th>\n",
       "      <td>20</td>\n",
       "      <td>100.0</td>\n",
       "      <td>70.0</td>\n",
       "      <td>7.2</td>\n",
       "      <td>98</td>\n",
       "      <td>21.2</td>\n",
       "      <td>0.0</td>\n",
       "      <td>0.0</td>\n",
       "      <td>0</td>\n",
       "      <td>0</td>\n",
       "      <td>74.0</td>\n",
       "      <td>Low</td>\n",
       "    </tr>\n",
       "    <tr>\n",
       "      <th>4</th>\n",
       "      <td>20</td>\n",
       "      <td>90.0</td>\n",
       "      <td>60.0</td>\n",
       "      <td>7.5</td>\n",
       "      <td>98</td>\n",
       "      <td>19.7</td>\n",
       "      <td>0.0</td>\n",
       "      <td>0.0</td>\n",
       "      <td>0</td>\n",
       "      <td>0</td>\n",
       "      <td>74.0</td>\n",
       "      <td>Low</td>\n",
       "    </tr>\n",
       "  </tbody>\n",
       "</table>\n",
       "</div>"
      ],
      "text/plain": [
       "   Age  Systolic BP  Diastolic   BS  Body Temp   BMI  Previous Complications  \\\n",
       "0   22         90.0       60.0  9.0        100  18.0                     1.0   \n",
       "1   22        110.0       70.0  7.1         98  20.4                     0.0   \n",
       "2   27        110.0       70.0  7.5         98  23.0                     1.0   \n",
       "3   20        100.0       70.0  7.2         98  21.2                     0.0   \n",
       "4   20         90.0       60.0  7.5         98  19.7                     0.0   \n",
       "\n",
       "   Preexisting Diabetes  Gestational Diabetes  Mental Health  Heart Rate  \\\n",
       "0                   1.0                     0              1        80.0   \n",
       "1                   0.0                     0              0        74.0   \n",
       "2                   0.0                     0              0        72.0   \n",
       "3                   0.0                     0              0        74.0   \n",
       "4                   0.0                     0              0        74.0   \n",
       "\n",
       "  Risk Level  \n",
       "0       High  \n",
       "1        Low  \n",
       "2        Low  \n",
       "3        Low  \n",
       "4        Low  "
      ]
     },
     "execution_count": 22,
     "metadata": {},
     "output_type": "execute_result"
    }
   ],
   "source": [
    "df.head()"
   ]
  },
  {
   "cell_type": "code",
   "execution_count": 23,
   "id": "f8d21928",
   "metadata": {},
   "outputs": [
    {
     "name": "stdout",
     "output_type": "stream",
     "text": [
      "<class 'pandas.core.frame.DataFrame'>\n",
      "RangeIndex: 1205 entries, 0 to 1204\n",
      "Data columns (total 12 columns):\n",
      " #   Column                  Non-Null Count  Dtype  \n",
      "---  ------                  --------------  -----  \n",
      " 0   Age                     1205 non-null   int64  \n",
      " 1   Systolic BP             1200 non-null   float64\n",
      " 2   Diastolic               1201 non-null   float64\n",
      " 3   BS                      1203 non-null   float64\n",
      " 4   Body Temp               1205 non-null   int64  \n",
      " 5   BMI                     1187 non-null   float64\n",
      " 6   Previous Complications  1203 non-null   float64\n",
      " 7   Preexisting Diabetes    1203 non-null   float64\n",
      " 8   Gestational Diabetes    1205 non-null   int64  \n",
      " 9   Mental Health           1205 non-null   int64  \n",
      " 10  Heart Rate              1203 non-null   float64\n",
      " 11  Risk Level              1187 non-null   object \n",
      "dtypes: float64(7), int64(4), object(1)\n",
      "memory usage: 113.1+ KB\n"
     ]
    }
   ],
   "source": [
    "df.info()"
   ]
  },
  {
   "cell_type": "code",
   "execution_count": 24,
   "id": "ec5718a0",
   "metadata": {},
   "outputs": [
    {
     "data": {
      "text/plain": [
       "Age                        0\n",
       "Systolic BP                5\n",
       "Diastolic                  4\n",
       "BS                         2\n",
       "Body Temp                  0\n",
       "BMI                       18\n",
       "Previous Complications     2\n",
       "Preexisting Diabetes       2\n",
       "Gestational Diabetes       0\n",
       "Mental Health              0\n",
       "Heart Rate                 2\n",
       "Risk Level                18\n",
       "dtype: int64"
      ]
     },
     "execution_count": 24,
     "metadata": {},
     "output_type": "execute_result"
    }
   ],
   "source": [
    "df.isnull().sum()"
   ]
  },
  {
   "cell_type": "code",
   "execution_count": 26,
   "id": "7334f000",
   "metadata": {},
   "outputs": [],
   "source": [
    "df=df.dropna()"
   ]
  },
  {
   "cell_type": "code",
   "execution_count": 27,
   "id": "5c3d3e20",
   "metadata": {},
   "outputs": [
    {
     "data": {
      "text/plain": [
       "np.int64(0)"
      ]
     },
     "execution_count": 27,
     "metadata": {},
     "output_type": "execute_result"
    }
   ],
   "source": [
    "df.isnull().sum().sum()"
   ]
  },
  {
   "cell_type": "code",
   "execution_count": 29,
   "id": "16fabb31",
   "metadata": {},
   "outputs": [
    {
     "name": "stderr",
     "output_type": "stream",
     "text": [
      "/var/folders/9w/xrntbp0155s19pxs2mtd1pzw0000gn/T/ipykernel_68514/335981030.py:4: SettingWithCopyWarning: \n",
      "A value is trying to be set on a copy of a slice from a DataFrame.\n",
      "Try using .loc[row_indexer,col_indexer] = value instead\n",
      "\n",
      "See the caveats in the documentation: https://pandas.pydata.org/pandas-docs/stable/user_guide/indexing.html#returning-a-view-versus-a-copy\n",
      "  df[\"Risk Level\"]=le.fit_transform(df[\"Risk Level\"])\n"
     ]
    }
   ],
   "source": [
    "from sklearn.preprocessing import LabelEncoder\n",
    "\n",
    "le=LabelEncoder()\n",
    "df[\"Risk Level\"]=le.fit_transform(df[\"Risk Level\"])"
   ]
  },
  {
   "cell_type": "code",
   "execution_count": 30,
   "id": "2a73ab99",
   "metadata": {},
   "outputs": [
    {
     "data": {
      "text/html": [
       "<div>\n",
       "<style scoped>\n",
       "    .dataframe tbody tr th:only-of-type {\n",
       "        vertical-align: middle;\n",
       "    }\n",
       "\n",
       "    .dataframe tbody tr th {\n",
       "        vertical-align: top;\n",
       "    }\n",
       "\n",
       "    .dataframe thead th {\n",
       "        text-align: right;\n",
       "    }\n",
       "</style>\n",
       "<table border=\"1\" class=\"dataframe\">\n",
       "  <thead>\n",
       "    <tr style=\"text-align: right;\">\n",
       "      <th></th>\n",
       "      <th>Age</th>\n",
       "      <th>Systolic BP</th>\n",
       "      <th>Diastolic</th>\n",
       "      <th>BS</th>\n",
       "      <th>Body Temp</th>\n",
       "      <th>BMI</th>\n",
       "      <th>Previous Complications</th>\n",
       "      <th>Preexisting Diabetes</th>\n",
       "      <th>Gestational Diabetes</th>\n",
       "      <th>Mental Health</th>\n",
       "      <th>Heart Rate</th>\n",
       "      <th>Risk Level</th>\n",
       "    </tr>\n",
       "  </thead>\n",
       "  <tbody>\n",
       "    <tr>\n",
       "      <th>0</th>\n",
       "      <td>22</td>\n",
       "      <td>90.0</td>\n",
       "      <td>60.0</td>\n",
       "      <td>9.0</td>\n",
       "      <td>100</td>\n",
       "      <td>18.0</td>\n",
       "      <td>1.0</td>\n",
       "      <td>1.0</td>\n",
       "      <td>0</td>\n",
       "      <td>1</td>\n",
       "      <td>80.0</td>\n",
       "      <td>0</td>\n",
       "    </tr>\n",
       "    <tr>\n",
       "      <th>1</th>\n",
       "      <td>22</td>\n",
       "      <td>110.0</td>\n",
       "      <td>70.0</td>\n",
       "      <td>7.1</td>\n",
       "      <td>98</td>\n",
       "      <td>20.4</td>\n",
       "      <td>0.0</td>\n",
       "      <td>0.0</td>\n",
       "      <td>0</td>\n",
       "      <td>0</td>\n",
       "      <td>74.0</td>\n",
       "      <td>1</td>\n",
       "    </tr>\n",
       "    <tr>\n",
       "      <th>2</th>\n",
       "      <td>27</td>\n",
       "      <td>110.0</td>\n",
       "      <td>70.0</td>\n",
       "      <td>7.5</td>\n",
       "      <td>98</td>\n",
       "      <td>23.0</td>\n",
       "      <td>1.0</td>\n",
       "      <td>0.0</td>\n",
       "      <td>0</td>\n",
       "      <td>0</td>\n",
       "      <td>72.0</td>\n",
       "      <td>1</td>\n",
       "    </tr>\n",
       "    <tr>\n",
       "      <th>3</th>\n",
       "      <td>20</td>\n",
       "      <td>100.0</td>\n",
       "      <td>70.0</td>\n",
       "      <td>7.2</td>\n",
       "      <td>98</td>\n",
       "      <td>21.2</td>\n",
       "      <td>0.0</td>\n",
       "      <td>0.0</td>\n",
       "      <td>0</td>\n",
       "      <td>0</td>\n",
       "      <td>74.0</td>\n",
       "      <td>1</td>\n",
       "    </tr>\n",
       "    <tr>\n",
       "      <th>4</th>\n",
       "      <td>20</td>\n",
       "      <td>90.0</td>\n",
       "      <td>60.0</td>\n",
       "      <td>7.5</td>\n",
       "      <td>98</td>\n",
       "      <td>19.7</td>\n",
       "      <td>0.0</td>\n",
       "      <td>0.0</td>\n",
       "      <td>0</td>\n",
       "      <td>0</td>\n",
       "      <td>74.0</td>\n",
       "      <td>1</td>\n",
       "    </tr>\n",
       "  </tbody>\n",
       "</table>\n",
       "</div>"
      ],
      "text/plain": [
       "   Age  Systolic BP  Diastolic   BS  Body Temp   BMI  Previous Complications  \\\n",
       "0   22         90.0       60.0  9.0        100  18.0                     1.0   \n",
       "1   22        110.0       70.0  7.1         98  20.4                     0.0   \n",
       "2   27        110.0       70.0  7.5         98  23.0                     1.0   \n",
       "3   20        100.0       70.0  7.2         98  21.2                     0.0   \n",
       "4   20         90.0       60.0  7.5         98  19.7                     0.0   \n",
       "\n",
       "   Preexisting Diabetes  Gestational Diabetes  Mental Health  Heart Rate  \\\n",
       "0                   1.0                     0              1        80.0   \n",
       "1                   0.0                     0              0        74.0   \n",
       "2                   0.0                     0              0        72.0   \n",
       "3                   0.0                     0              0        74.0   \n",
       "4                   0.0                     0              0        74.0   \n",
       "\n",
       "   Risk Level  \n",
       "0           0  \n",
       "1           1  \n",
       "2           1  \n",
       "3           1  \n",
       "4           1  "
      ]
     },
     "execution_count": 30,
     "metadata": {},
     "output_type": "execute_result"
    }
   ],
   "source": [
    "df.head()"
   ]
  },
  {
   "cell_type": "code",
   "execution_count": 31,
   "id": "2b990400",
   "metadata": {},
   "outputs": [],
   "source": [
    "from sklearn.model_selection import train_test_split\n",
    "\n",
    "y=df[\"Risk Level\"]\n",
    "x=df.drop([\"Risk Level\"],axis=1)\n",
    "\n",
    "x_train,x_test,y_train,y_test=train_test_split(x,y,train_size=0.7,random_state=31)"
   ]
  },
  {
   "cell_type": "code",
   "execution_count": 64,
   "id": "3c4666ea",
   "metadata": {},
   "outputs": [],
   "source": [
    "from sklearn.linear_model import LinearRegression, Ridge, Lasso, ElasticNet\n",
    "from sklearn.tree import DecisionTreeRegressor\n",
    "from sklearn.ensemble import RandomForestRegressor, GradientBoostingRegressor\n",
    "from sklearn.neighbors import KNeighborsRegressor\n",
    "from sklearn.svm import SVR\n",
    "from sklearn.neural_network import MLPRegressor\n",
    "\n",
    "models = [\n",
    "    LinearRegression(),\n",
    "    Ridge(),\n",
    "    Lasso(),\n",
    "    ElasticNet(),\n",
    "    DecisionTreeRegressor(),\n",
    "    RandomForestRegressor(),\n",
    "    GradientBoostingRegressor(),\n",
    "    KNeighborsRegressor(),\n",
    "    SVR(),\n",
    "    MLPRegressor(max_iter=1000)\n",
    "]\n",
    "scoreResults=[]\n",
    "def evaluateModels():\n",
    "    for x in models:\n",
    "        model=x\n",
    "        model.fit(x_train,y_train)\n",
    "        name=x.__class__.__name__\n",
    "        score=model.score(x_test,y_test)\n",
    "        print(name,score)\n",
    "        scoreResults.append((name,score))\n"
   ]
  },
  {
   "cell_type": "code",
   "execution_count": 65,
   "id": "20d8bfe3",
   "metadata": {},
   "outputs": [
    {
     "name": "stdout",
     "output_type": "stream",
     "text": [
      "LinearRegression 0.8233018574150217\n",
      "Ridge 0.8235361690518459\n",
      "Lasso 0.19201924154518069\n",
      "ElasticNet 0.3240467152929235\n",
      "DecisionTreeRegressor 0.8019900828646545\n",
      "RandomForestRegressor 0.9466095377550001\n",
      "GradientBoostingRegressor 0.9402442364874747\n",
      "KNeighborsRegressor 0.6803886984591834\n",
      "SVR 0.5331012489766384\n",
      "MLPRegressor 0.7844550901698505\n"
     ]
    }
   ],
   "source": [
    "evaluateModels()"
   ]
  },
  {
   "cell_type": "code",
   "execution_count": 66,
   "id": "dd3ca36f",
   "metadata": {},
   "outputs": [
    {
     "name": "stderr",
     "output_type": "stream",
     "text": [
      "/var/folders/9w/xrntbp0155s19pxs2mtd1pzw0000gn/T/ipykernel_68514/169979116.py:10: FutureWarning: \n",
      "\n",
      "Passing `palette` without assigning `hue` is deprecated and will be removed in v0.14.0. Assign the `y` variable to `hue` and set `legend=False` for the same effect.\n",
      "\n",
      "  sns.barplot(data=results_df.sort_values(\"R2_Score\", ascending=False),\n"
     ]
    },
    {
     "data": {
      "image/png": "[encoded data removed]",
      "text/plain": [
       "<Figure size 1200x600 with 1 Axes>"
      ]
     },
     "metadata": {},
     "output_type": "display_data"
    }
   ],
   "source": [
    "import pandas as pd\n",
    "import seaborn as sns\n",
    "import matplotlib.pyplot as plt\n",
    "\n",
    "# Sonuçları DataFrame'e çevir\n",
    "results_df = pd.DataFrame(scoreResults, columns=[\"Model\", \"R2_Score\"])\n",
    "\n",
    "# Barplot çiz\n",
    "plt.figure(figsize=(12,6))\n",
    "sns.barplot(data=results_df.sort_values(\"R2_Score\", ascending=False),\n",
    "            x=\"R2_Score\", y=\"Model\", palette=\"mako\")\n",
    "plt.title(\"Regresyon Modelleri Karşılaştırması (R² Score)\")\n",
    "plt.xlabel(\"R² Score\")\n",
    "plt.ylabel(\"Model\")\n",
    "plt.tight_layout()\n",
    "plt.show()"
   ]
  },
  {
   "cell_type": "code",
   "execution_count": null,
   "id": "5a057108",
   "metadata": {},
   "outputs": [],
   "source": []
  }
 ],
 "metadata": {
  "kernelspec": {
   "display_name": "tf_env",
   "language": "python",
   "name": "python3"
  },
  "language_info": {
   "codemirror_mode": {
    "name": "ipython",
    "version": 3
   },
   "file_extension": ".py",
   "mimetype": "text/x-python",
   "name": "python",
   "nbconvert_exporter": "python",
   "pygments_lexer": "ipython3",
   "version": "3.10.18"
  }
 },
 "nbformat": 4,
 "nbformat_minor": 5
}
